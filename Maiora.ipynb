{
  "nbformat": 4,
  "nbformat_minor": 0,
  "metadata": {
    "colab": {
      "provenance": [],
      "authorship_tag": "ABX9TyOPCFB/kIJMHXXFwgLjop6W",
      "include_colab_link": true
    },
    "kernelspec": {
      "name": "python3",
      "display_name": "Python 3"
    },
    "language_info": {
      "name": "python"
    }
  },
  "cells": [
    {
      "cell_type": "markdown",
      "metadata": {
        "id": "view-in-github",
        "colab_type": "text"
      },
      "source": [
        "<a href=\"https://colab.research.google.com/github/Anshad-Aziz/Maiora_Assignment-/blob/main/Maiora.ipynb\" target=\"_parent\"><img src=\"https://colab.research.google.com/assets/colab-badge.svg\" alt=\"Open In Colab\"/></a>"
      ]
    },
    {
      "cell_type": "code",
      "source": [
        "pip install tabula-py pandas openpyxl\n"
      ],
      "metadata": {
        "colab": {
          "base_uri": "https://localhost:8080/"
        },
        "id": "uiBKUxvAiPKW",
        "outputId": "16a065e8-7813-4538-9174-857258452bbb"
      },
      "execution_count": 10,
      "outputs": [
        {
          "output_type": "stream",
          "name": "stdout",
          "text": [
            "Collecting tabula-py\n",
            "  Downloading tabula_py-2.10.0-py3-none-any.whl.metadata (7.6 kB)\n",
            "Requirement already satisfied: pandas in /usr/local/lib/python3.11/dist-packages (2.2.2)\n",
            "Requirement already satisfied: openpyxl in /usr/local/lib/python3.11/dist-packages (3.1.5)\n",
            "Requirement already satisfied: numpy>1.24.4 in /usr/local/lib/python3.11/dist-packages (from tabula-py) (1.26.4)\n",
            "Requirement already satisfied: distro in /usr/local/lib/python3.11/dist-packages (from tabula-py) (1.9.0)\n",
            "Requirement already satisfied: python-dateutil>=2.8.2 in /usr/local/lib/python3.11/dist-packages (from pandas) (2.8.2)\n",
            "Requirement already satisfied: pytz>=2020.1 in /usr/local/lib/python3.11/dist-packages (from pandas) (2024.2)\n",
            "Requirement already satisfied: tzdata>=2022.7 in /usr/local/lib/python3.11/dist-packages (from pandas) (2025.1)\n",
            "Requirement already satisfied: et-xmlfile in /usr/local/lib/python3.11/dist-packages (from openpyxl) (2.0.0)\n",
            "Requirement already satisfied: six>=1.5 in /usr/local/lib/python3.11/dist-packages (from python-dateutil>=2.8.2->pandas) (1.17.0)\n",
            "Downloading tabula_py-2.10.0-py3-none-any.whl (12.0 MB)\n",
            "\u001b[2K   \u001b[90m━━━━━━━━━━━━━━━━━━━━━━━━━━━━━━━━━━━━━━━━\u001b[0m \u001b[32m12.0/12.0 MB\u001b[0m \u001b[31m65.8 MB/s\u001b[0m eta \u001b[36m0:00:00\u001b[0m\n",
            "\u001b[?25hInstalling collected packages: tabula-py\n",
            "Successfully installed tabula-py-2.10.0\n"
          ]
        }
      ]
    },
    {
      "cell_type": "code",
      "source": [
        "import os\n",
        "import pandas as pd\n",
        "from tabula import read_pdf\n",
        "from openpyxl import Workbook\n",
        "\n",
        "# Function to extract tables from a PDF on a given page\n",
        "def extract_table(pdf_path, page_number):\n",
        "\n",
        "    try:\n",
        "        tables = read_pdf(pdf_path, pages=page_number, multiple_tables=True)\n",
        "        return tables if tables else None\n",
        "    except Exception as e:\n",
        "        print(f\"error extracting table from {pdf_path}, Page {page_number}: {e}\")\n",
        "        return None\n",
        "\n",
        "# Function to save extracted tables into an Excel file\n",
        "def save_to_excel(tables_dict, output_file):\n",
        "    with pd.ExcelWriter(output_file, engine='openpyxl') as writer:\n",
        "        for pdf_name, tables in tables_dict.items():\n",
        "            for index, table in enumerate(tables):\n",
        "                sheet_name = f\"{pdf_name}_Page{index+1}\"\n",
        "                table.to_excel(writer, sheet_name=sheet_name, index=False)\n",
        "    print(f\" tables successfully saved in {output_file}\")\n",
        "\n",
        "# Define the PDFs  pages\n",
        "pdf_files = {\n",
        "    \"cardio_structured.pdf\": 6,\n",
        "    \"prot_sap_102.pdf\": 50,\n",
        "    \"prot_sap_1.pdf\": 14\n",
        "}\n",
        "\n",
        "# Dictionary to store extracted tables\n",
        "extracted_tables = {}\n",
        "\n",
        "\n",
        "for pdf, page in pdf_files.items():\n",
        "    print(f\" extracting tables from {pdf}, Page {page}...\")\n",
        "    tables = extract_table(pdf, page)\n",
        "    if tables:\n",
        "        extracted_tables[pdf] = tables\n",
        "        print(f\" table extracted from {pdf}, Page {page}\")\n",
        "    else:\n",
        "        print(f\" no table found in {pdf}, Page {page}\")\n",
        "\n",
        "# Save all extracted tables into an Excel file\n",
        "output_excel = \"extracted_tables.xlsx\"\n",
        "if extracted_tables:\n",
        "    save_to_excel(extracted_tables, output_excel)\n",
        "else:\n",
        "    print(\" no tables extracted. excel file not created.\")\n"
      ],
      "metadata": {
        "colab": {
          "base_uri": "https://localhost:8080/"
        },
        "id": "bm7fMqi1iTqe",
        "outputId": "6ee9be48-1e33-42c0-d60f-d87a3561f4a2"
      },
      "execution_count": 12,
      "outputs": [
        {
          "output_type": "stream",
          "name": "stdout",
          "text": [
            " Extracting tables from cardio_structured.pdf, Page 6...\n",
            " Table extracted from cardio_structured.pdf, Page 6\n",
            " Extracting tables from prot_sap_102.pdf, Page 50...\n",
            " Table extracted from prot_sap_102.pdf, Page 50\n",
            " Extracting tables from prot_sap_1.pdf, Page 14...\n",
            " Table extracted from prot_sap_1.pdf, Page 14\n",
            " Tables successfully saved in extracted_tables.xlsx\n"
          ]
        }
      ]
    },
    {
      "cell_type": "code",
      "source": [],
      "metadata": {
        "id": "fdWCegcepquv"
      },
      "execution_count": null,
      "outputs": []
    }
  ]
}