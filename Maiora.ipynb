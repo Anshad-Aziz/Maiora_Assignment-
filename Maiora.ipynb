{
  "nbformat": 4,
  "nbformat_minor": 0,
  "metadata": {
    "colab": {
      "provenance": []
    },
    "kernelspec": {
      "name": "python3",
      "display_name": "Python 3"
    },
    "language_info": {
      "name": "python"
    }
  },
  "cells": [
    {
      "cell_type": "code",
      "source": [
        "pip install tabula-py pandas openpyxl\n"
      ],
      "metadata": {
        "colab": {
          "base_uri": "https://localhost:8080/"
        },
        "id": "uiBKUxvAiPKW",
        "outputId": "16a065e8-7813-4538-9174-857258452bbb"
      },
      "execution_count": 10,
      "outputs": [
        {
          "output_type": "stream",
          "name": "stdout",
          "text": [
            "Collecting tabula-py\n",
            "  Downloading tabula_py-2.10.0-py3-none-any.whl.metadata (7.6 kB)\n",
            "Requirement already satisfied: pandas in /usr/local/lib/python3.11/dist-packages (2.2.2)\n",
            "Requirement already satisfied: openpyxl in /usr/local/lib/python3.11/dist-packages (3.1.5)\n",
            "Requirement already satisfied: numpy>1.24.4 in /usr/local/lib/python3.11/dist-packages (from tabula-py) (1.26.4)\n",
            "Requirement already satisfied: distro in /usr/local/lib/python3.11/dist-packages (from tabula-py) (1.9.0)\n",
            "Requirement already satisfied: python-dateutil>=2.8.2 in /usr/local/lib/python3.11/dist-packages (from pandas) (2.8.2)\n",
            "Requirement already satisfied: pytz>=2020.1 in /usr/local/lib/python3.11/dist-packages (from pandas) (2024.2)\n",
            "Requirement already satisfied: tzdata>=2022.7 in /usr/local/lib/python3.11/dist-packages (from pandas) (2025.1)\n",
            "Requirement already satisfied: et-xmlfile in /usr/local/lib/python3.11/dist-packages (from openpyxl) (2.0.0)\n",
            "Requirement already satisfied: six>=1.5 in /usr/local/lib/python3.11/dist-packages (from python-dateutil>=2.8.2->pandas) (1.17.0)\n",
            "Downloading tabula_py-2.10.0-py3-none-any.whl (12.0 MB)\n",
            "\u001b[2K   \u001b[90m━━━━━━━━━━━━━━━━━━━━━━━━━━━━━━━━━━━━━━━━\u001b[0m \u001b[32m12.0/12.0 MB\u001b[0m \u001b[31m65.8 MB/s\u001b[0m eta \u001b[36m0:00:00\u001b[0m\n",
            "\u001b[?25hInstalling collected packages: tabula-py\n",
            "Successfully installed tabula-py-2.10.0\n"
          ]
        }
      ]
    },
    {
      "cell_type": "code",
      "source": [
        "import os\n",
        "import pandas as pd\n",
        "from tabula import read_pdf\n",
        "from openpyxl import Workbook"
      ],
      "metadata": {
        "id": "bm7fMqi1iTqe"
      },
      "execution_count": 14,
      "outputs": []
    },
    {
      "cell_type": "code",
      "source": [
        "# Function to save extracted tables into an Excel file\n",
        "def save_to_excel(tables_dict, output_file):\n",
        "    with pd.ExcelWriter(output_file, engine='openpyxl') as writer:\n",
        "        for pdf_name, tables in tables_dict.items():\n",
        "            for index, table in enumerate(tables):\n",
        "                sheet_name = f\"{pdf_name}_Page{index+1}\"\n",
        "                table.to_excel(writer, sheet_name=sheet_name, index=False)\n",
        "    print(f\" tables successfully saved in {output_file}\")"
      ],
      "metadata": {
        "id": "fdWCegcepquv"
      },
      "execution_count": 15,
      "outputs": []
    },
    {
      "cell_type": "code",
      "source": [
        "# Define the PDFs  pages\n",
        "pdf_files = {\n",
        "    \"cardio_structured.pdf\": 6,\n",
        "    \"prot_sap_102.pdf\": 50,\n",
        "    \"prot_sap_1.pdf\": 14\n",
        "}"
      ],
      "metadata": {
        "id": "wJUxSVjx3gIc"
      },
      "execution_count": 16,
      "outputs": []
    },
    {
      "cell_type": "code",
      "source": [
        "# Dictionary to store extracted tables\n",
        "extracted_tables = {}\n",
        "\n",
        "\n",
        "for pdf, page in pdf_files.items():\n",
        "    print(f\" extracting tables from {pdf}, Page {page}...\")\n",
        "    tables = extract_table(pdf, page)\n",
        "    if tables:\n",
        "        extracted_tables[pdf] = tables\n",
        "        print(f\" table extracted from {pdf}, Page {page}\")\n",
        "    else:\n",
        "        print(f\" no table found in {pdf}, Page {page}\")"
      ],
      "metadata": {
        "colab": {
          "base_uri": "https://localhost:8080/"
        },
        "id": "mIk-Pam23hyR",
        "outputId": "a55ee9b1-f956-4c6e-d8b6-b6ed9fd0be6b"
      },
      "execution_count": 17,
      "outputs": [
        {
          "output_type": "stream",
          "name": "stdout",
          "text": [
            " extracting tables from cardio_structured.pdf, Page 6...\n",
            " table extracted from cardio_structured.pdf, Page 6\n",
            " extracting tables from prot_sap_102.pdf, Page 50...\n",
            " table extracted from prot_sap_102.pdf, Page 50\n",
            " extracting tables from prot_sap_1.pdf, Page 14...\n",
            " table extracted from prot_sap_1.pdf, Page 14\n"
          ]
        }
      ]
    },
    {
      "cell_type": "code",
      "source": [
        "# Save all extracted tables into an Excel file\n",
        "output_excel = \"output(1).xlsx\"\n",
        "if extracted_tables:\n",
        "    save_to_excel(extracted_tables, output_excel)\n",
        "else:\n",
        "    print(\" no tables extracted. excel file not created.\")"
      ],
      "metadata": {
        "colab": {
          "base_uri": "https://localhost:8080/"
        },
        "id": "ZJO9OMYx3hjC",
        "outputId": "3ad30f64-5a1d-4fbd-f914-883a2eb2fb92"
      },
      "execution_count": 18,
      "outputs": [
        {
          "output_type": "stream",
          "name": "stdout",
          "text": [
            " tables successfully saved in output(1).xlsx\n"
          ]
        }
      ]
    },
    {
      "cell_type": "code",
      "source": [],
      "metadata": {
        "id": "PaKPgyIt3zij"
      },
      "execution_count": null,
      "outputs": []
    }
  ]
}